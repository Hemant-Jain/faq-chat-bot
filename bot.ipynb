{
 "cells": [
  {
   "cell_type": "code",
   "execution_count": 1,
   "metadata": {
    "collapsed": true
   },
   "outputs": [],
   "source": [
    "from rasa_nlu.training_data import load_data\n",
    "from rasa_nlu import config\n",
    "from rasa_nlu.model import Trainer, Metadata, Interpreter"
   ]
  },
  {
   "cell_type": "code",
   "execution_count": 2,
   "metadata": {
    "collapsed": true
   },
   "outputs": [],
   "source": [
    "def train_nlu(data, configuration, model_dir):\n",
    "    training_data = load_data(data)\n",
    "    trainer = Trainer(config.load(configuration))\n",
    "    trainer.train(training_data)\n",
    "    model_directory = trainer.persist(model_dir,fixed_model_name='faq_chatbot_nlu')"
   ]
  },
  {
   "cell_type": "code",
   "execution_count": 3,
   "metadata": {
    "collapsed": true
   },
   "outputs": [],
   "source": [
    "train_nlu_model_switch = True"
   ]
  },
  {
   "cell_type": "code",
   "execution_count": 25,
   "metadata": {
    "collapsed": false
   },
   "outputs": [
    {
     "name": "stdout",
     "output_type": "stream",
     "text": [
      "Fitting 2 folds for each of 6 candidates, totalling 12 fits\n"
     ]
    },
    {
     "name": "stderr",
     "output_type": "stream",
     "text": [
      "[Parallel(n_jobs=1)]: Done  12 out of  12 | elapsed:    1.8s finished\n"
     ]
    }
   ],
   "source": [
    "if (train_nlu_model_switch):\n",
    "    train_nlu('./data/data.json','spacy_configuration.json','./models/faq_chatbot_nlu')"
   ]
  },
  {
   "cell_type": "code",
   "execution_count": 26,
   "metadata": {
    "collapsed": true
   },
   "outputs": [],
   "source": [
    "def run_nlu(query):\n",
    "    interpreter = Interpreter.load('./models/faq_chatbot_nlu/default/faq_chatbot_nlu')\n",
    "    return interpreter.parse(query)"
   ]
  },
  {
   "cell_type": "code",
   "execution_count": 28,
   "metadata": {
    "collapsed": true
   },
   "outputs": [],
   "source": [
    "query = 'what is the use of a tourist visa'"
   ]
  },
  {
   "cell_type": "code",
   "execution_count": 29,
   "metadata": {
    "collapsed": false
   },
   "outputs": [
    {
     "name": "stderr",
     "output_type": "stream",
     "text": [
      "C:\\Users\\Utkarsh Sah\\Anaconda3\\lib\\site-packages\\rasa_nlu\\extractors\\entity_synonyms.py:85: UserWarning: Failed to load synonyms file from './models/faq_chatbot_nlu/default/faq_chatbot_nlu\\entity_synonyms.json'\n",
      "  \"\".format(entity_synonyms_file))\n"
     ]
    },
    {
     "data": {
      "text/plain": [
       "{'entities': [{'confidence': 0.9928052551359788,\n",
       "   'end': 33,\n",
       "   'entity': 'subject',\n",
       "   'extractor': 'ner_crf',\n",
       "   'start': 21,\n",
       "   'value': 'tourist visa'}],\n",
       " 'intent': {'confidence': 0.58501234428080506, 'name': 'purpose'},\n",
       " 'intent_ranking': [{'confidence': 0.58501234428080506, 'name': 'purpose'},\n",
       "  {'confidence': 0.13018407585797612, 'name': 'definition'},\n",
       "  {'confidence': 0.093871332735293023, 'name': 'procedure'},\n",
       "  {'confidence': 0.071044706925857778, 'name': 'duration'},\n",
       "  {'confidence': 0.02453255158114552, 'name': 'conditions'},\n",
       "  {'confidence': 0.018571111102767872, 'name': 'address'},\n",
       "  {'confidence': 0.013953292827593351, 'name': 'email'},\n",
       "  {'confidence': 0.013373516541279025, 'name': 'contact'},\n",
       "  {'confidence': 0.012752058141700589, 'name': 'validity'},\n",
       "  {'confidence': 0.011885242540560519, 'name': 'benefits'}],\n",
       " 'text': 'what is the use of a tourist visa'}"
      ]
     },
     "execution_count": 29,
     "metadata": {},
     "output_type": "execute_result"
    }
   ],
   "source": [
    "parsed_query = run_nlu(query)\n",
    "parsed_query"
   ]
  },
  {
   "cell_type": "code",
   "execution_count": null,
   "metadata": {
    "collapsed": true
   },
   "outputs": [],
   "source": []
  }
 ],
 "metadata": {
  "kernelspec": {
   "display_name": "Python 3",
   "language": "python",
   "name": "python3"
  },
  "language_info": {
   "codemirror_mode": {
    "name": "ipython",
    "version": 3
   },
   "file_extension": ".py",
   "mimetype": "text/x-python",
   "name": "python",
   "nbconvert_exporter": "python",
   "pygments_lexer": "ipython3",
   "version": "3.6.0"
  }
 },
 "nbformat": 4,
 "nbformat_minor": 2
}
