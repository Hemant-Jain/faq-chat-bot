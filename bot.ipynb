{
 "cells": [
  {
   "cell_type": "code",
   "execution_count": 1,
   "metadata": {
    "collapsed": true
   },
   "outputs": [],
   "source": [
    "from rasa_nlu.training_data import load_data\n",
    "from rasa_nlu import config\n",
    "from rasa_nlu.model import Trainer, Metadata, Interpreter"
   ]
  },
  {
   "cell_type": "code",
   "execution_count": 2,
   "metadata": {
    "collapsed": true
   },
   "outputs": [],
   "source": [
    "def train_nlu(data, configuration, model_dir):\n",
    "    training_data = load_data(data)\n",
    "    trainer = Trainer(config.load(configuration))\n",
    "    trainer.train(training_data)\n",
    "    model_directory = trainer.persist(model_dir,fixed_model_name='faq_chatbot_nlu')"
   ]
  },
  {
   "cell_type": "code",
   "execution_count": 20,
   "metadata": {
    "collapsed": true
   },
   "outputs": [],
   "source": [
    "train_nlu_model_switch = True"
   ]
  },
  {
   "cell_type": "code",
   "execution_count": 21,
   "metadata": {
    "collapsed": false
   },
   "outputs": [
    {
     "name": "stdout",
     "output_type": "stream",
     "text": [
      "Fitting 2 folds for each of 6 candidates, totalling 12 fits\n"
     ]
    },
    {
     "name": "stderr",
     "output_type": "stream",
     "text": [
      "[Parallel(n_jobs=1)]: Done  12 out of  12 | elapsed:    0.0s finished\n"
     ]
    }
   ],
   "source": [
    "if (train_nlu_model_switch):\n",
    "    train_nlu('./data/data.json','spacy_configuration.json','./models/faq_chatbot_nlu')"
   ]
  },
  {
   "cell_type": "code",
   "execution_count": 22,
   "metadata": {
    "collapsed": true
   },
   "outputs": [],
   "source": [
    "def run_nlu(query):\n",
    "    interpreter = Interpreter.load('./models/faq_chatbot_nlu/default/faq_chatbot_nlu')\n",
    "    return interpreter.parse(query)"
   ]
  },
  {
   "cell_type": "code",
   "execution_count": 23,
   "metadata": {
    "collapsed": true
   },
   "outputs": [],
   "source": [
    "query = \"Thanks!\""
   ]
  },
  {
   "cell_type": "code",
   "execution_count": 16,
   "metadata": {
    "collapsed": false
   },
   "outputs": [
    {
     "name": "stderr",
     "output_type": "stream",
     "text": [
      "C:\\Users\\Utkarsh Sah\\Anaconda3\\lib\\site-packages\\rasa_nlu\\extractors\\entity_synonyms.py:85: UserWarning: Failed to load synonyms file from './models/faq_chatbot_nlu/default/faq_chatbot_nlu\\entity_synonyms.json'\n",
      "  \"\".format(entity_synonyms_file))\n"
     ]
    },
    {
     "data": {
      "text/plain": [
       "{'entities': [],\n",
       " 'intent': {'confidence': 0.53561186733242661, 'name': 'gratitude'},\n",
       " 'intent_ranking': [{'confidence': 0.53561186733242661, 'name': 'gratitude'},\n",
       "  {'confidence': 0.40079041617131533, 'name': 'greet'},\n",
       "  {'confidence': 0.063597716496257978, 'name': 'goodbye'}],\n",
       " 'text': 'Thanks!'}"
      ]
     },
     "execution_count": 16,
     "metadata": {},
     "output_type": "execute_result"
    }
   ],
   "source": [
    "parsed_query = run_nlu(query)\n",
    "parsed_query"
   ]
  },
  {
   "cell_type": "code",
   "execution_count": 19,
   "metadata": {
    "collapsed": false
   },
   "outputs": [
    {
     "name": "stderr",
     "output_type": "stream",
     "text": [
      "C:\\Users\\Utkarsh Sah\\Anaconda3\\lib\\site-packages\\rasa_nlu\\extractors\\entity_synonyms.py:85: UserWarning: Failed to load synonyms file from './models/faq_chatbot_nlu/default/faq_chatbot_nlu\\entity_synonyms.json'\n",
      "  \"\".format(entity_synonyms_file))\n"
     ]
    },
    {
     "data": {
      "text/plain": [
       "{'entities': [],\n",
       " 'intent': {'confidence': 0.90318292861888216, 'name': 'greet'},\n",
       " 'intent_ranking': [{'confidence': 0.90318292861888216, 'name': 'greet'},\n",
       "  {'confidence': 0.053229410377504179, 'name': 'goodbye'},\n",
       "  {'confidence': 0.043587661003613637, 'name': 'gratitude'}],\n",
       " 'text': 'Good morning'}"
      ]
     },
     "execution_count": 19,
     "metadata": {},
     "output_type": "execute_result"
    }
   ],
   "source": [
    "run_nlu(\"Good morning\")"
   ]
  },
  {
   "cell_type": "code",
   "execution_count": 24,
   "metadata": {
    "collapsed": false
   },
   "outputs": [
    {
     "name": "stderr",
     "output_type": "stream",
     "text": [
      "C:\\Users\\Utkarsh Sah\\Anaconda3\\lib\\site-packages\\rasa_nlu\\extractors\\entity_synonyms.py:85: UserWarning: Failed to load synonyms file from './models/faq_chatbot_nlu/default/faq_chatbot_nlu\\entity_synonyms.json'\n",
      "  \"\".format(entity_synonyms_file))\n"
     ]
    },
    {
     "data": {
      "text/plain": [
       "{'entities': [],\n",
       " 'intent': {'confidence': 0.33561563891876722, 'name': 'location'},\n",
       " 'intent_ranking': [{'confidence': 0.33561563891876722, 'name': 'location'},\n",
       "  {'confidence': 0.29495086343843768, 'name': 'goodbye'},\n",
       "  {'confidence': 0.27402788958955021, 'name': 'greet'},\n",
       "  {'confidence': 0.095405608053245147, 'name': 'gratitude'}],\n",
       " 'text': 'where do you put up'}"
      ]
     },
     "execution_count": 24,
     "metadata": {},
     "output_type": "execute_result"
    }
   ],
   "source": [
    "run_nlu(\"where do you put up\")"
   ]
  },
  {
   "cell_type": "code",
   "execution_count": null,
   "metadata": {
    "collapsed": true
   },
   "outputs": [],
   "source": []
  }
 ],
 "metadata": {
  "kernelspec": {
   "display_name": "Python 3",
   "language": "python",
   "name": "python3"
  },
  "language_info": {
   "codemirror_mode": {
    "name": "ipython",
    "version": 3
   },
   "file_extension": ".py",
   "mimetype": "text/x-python",
   "name": "python",
   "nbconvert_exporter": "python",
   "pygments_lexer": "ipython3",
   "version": "3.6.0"
  }
 },
 "nbformat": 4,
 "nbformat_minor": 2
}
