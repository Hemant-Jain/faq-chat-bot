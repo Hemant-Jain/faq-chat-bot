{
 "cells": [
  {
   "cell_type": "code",
   "execution_count": 1,
   "metadata": {
    "collapsed": true
   },
   "outputs": [],
   "source": [
    "from rasa_nlu.training_data import load_data\n",
    "from rasa_nlu import config\n",
    "from rasa_nlu.model import Trainer, Metadata, Interpreter"
   ]
  },
  {
   "cell_type": "code",
   "execution_count": 2,
   "metadata": {
    "collapsed": true
   },
   "outputs": [],
   "source": [
    "def train_nlu(data, configuration, model_dir):\n",
    "    training_data = load_data(data)\n",
    "    trainer = Trainer(config.load(configuration))\n",
    "    trainer.train(training_data)\n",
    "    model_directory = trainer.persist(model_dir,fixed_model_name='faq_chatbot_nlu')"
   ]
  },
  {
   "cell_type": "code",
   "execution_count": 10,
   "metadata": {
    "collapsed": true
   },
   "outputs": [],
   "source": [
    "train_nlu_model_switch = False"
   ]
  },
  {
   "cell_type": "code",
   "execution_count": 4,
   "metadata": {
    "collapsed": false
   },
   "outputs": [
    {
     "name": "stdout",
     "output_type": "stream",
     "text": [
      "Fitting 2 folds for each of 6 candidates, totalling 12 fits\n"
     ]
    },
    {
     "name": "stderr",
     "output_type": "stream",
     "text": [
      "[Parallel(n_jobs=1)]: Done  12 out of  12 | elapsed:   10.0s finished\n"
     ]
    }
   ],
   "source": [
    "if (train_nlu_model_switch):\n",
    "    train_nlu('./data/data.json','spacy_configuration.json','./models/faq_chatbot_nlu')"
   ]
  },
  {
   "cell_type": "code",
   "execution_count": 5,
   "metadata": {
    "collapsed": true
   },
   "outputs": [],
   "source": [
    "def run_nlu(query):\n",
    "    interpreter = Interpreter.load('./models/faq_chatbot_nlu/default/faq_chatbot_nlu')\n",
    "    return interpreter.parse(query)"
   ]
  },
  {
   "cell_type": "code",
   "execution_count": 8,
   "metadata": {
    "collapsed": true
   },
   "outputs": [],
   "source": [
    "query = 'do i need a visa to visit india'"
   ]
  },
  {
   "cell_type": "code",
   "execution_count": 9,
   "metadata": {
    "collapsed": false
   },
   "outputs": [
    {
     "name": "stderr",
     "output_type": "stream",
     "text": [
      "C:\\Users\\Utkarsh Sah\\Anaconda3\\lib\\site-packages\\rasa_nlu\\extractors\\entity_synonyms.py:85: UserWarning: Failed to load synonyms file from './models/faq_chatbot_nlu/default/faq_chatbot_nlu\\entity_synonyms.json'\n",
      "  \"\".format(entity_synonyms_file))\n"
     ]
    },
    {
     "data": {
      "text/plain": [
       "{'entities': [{'confidence': 0.8625167454063546,\n",
       "   'end': 16,\n",
       "   'entity': 'requirement',\n",
       "   'extractor': 'ner_crf',\n",
       "   'start': 12,\n",
       "   'value': 'visa'}],\n",
       " 'intent': {'confidence': 0.72160047624340007, 'name': 'requirement'},\n",
       " 'intent_ranking': [{'confidence': 0.72160047624340007, 'name': 'requirement'},\n",
       "  {'confidence': 0.052034770670308317, 'name': 'procedure'},\n",
       "  {'confidence': 0.037175232513816221, 'name': 'validity'},\n",
       "  {'confidence': 0.029378835999498559, 'name': 'definition'},\n",
       "  {'confidence': 0.024564056383751899, 'name': 'purpose'},\n",
       "  {'confidence': 0.023878036819287678, 'name': 'duration'},\n",
       "  {'confidence': 0.016219502794496229, 'name': 'email'},\n",
       "  {'confidence': 0.014650138932202841, 'name': 'conditions'},\n",
       "  {'confidence': 0.014244593386735361, 'name': 'extent'},\n",
       "  {'confidence': 0.013050230800543737, 'name': 'address'}],\n",
       " 'text': 'do i need a visa to visit india'}"
      ]
     },
     "execution_count": 9,
     "metadata": {},
     "output_type": "execute_result"
    }
   ],
   "source": [
    "parsed_query = run_nlu(query)\n",
    "parsed_query"
   ]
  },
  {
   "cell_type": "code",
   "execution_count": null,
   "metadata": {
    "collapsed": true
   },
   "outputs": [],
   "source": []
  }
 ],
 "metadata": {
  "kernelspec": {
   "display_name": "Python 3",
   "language": "python",
   "name": "python3"
  },
  "language_info": {
   "codemirror_mode": {
    "name": "ipython",
    "version": 3
   },
   "file_extension": ".py",
   "mimetype": "text/x-python",
   "name": "python",
   "nbconvert_exporter": "python",
   "pygments_lexer": "ipython3",
   "version": "3.6.0"
  }
 },
 "nbformat": 4,
 "nbformat_minor": 2
}
