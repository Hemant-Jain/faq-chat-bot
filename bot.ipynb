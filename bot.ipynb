{
 "cells": [
  {
   "cell_type": "code",
   "execution_count": 1,
   "metadata": {
    "collapsed": true
   },
   "outputs": [],
   "source": [
    "import spacy\n",
    "import numpy as np\n",
    "import pandas as pd\n",
    "from rasa_nlu.model import Interpreter"
   ]
  },
  {
   "cell_type": "code",
   "execution_count": 2,
   "metadata": {
    "collapsed": true
   },
   "outputs": [],
   "source": [
    "nlp = spacy.load('en')"
   ]
  },
  {
   "cell_type": "code",
   "execution_count": 3,
   "metadata": {
    "collapsed": false
   },
   "outputs": [
    {
     "name": "stderr",
     "output_type": "stream",
     "text": [
      "C:\\Users\\Utkarsh Sah\\Anaconda3\\lib\\site-packages\\rasa_nlu\\extractors\\entity_synonyms.py:85: UserWarning: Failed to load synonyms file from './models/faq_chatbot_nlu/default/faq_chatbot_nlu\\entity_synonyms.json'\n",
      "  \"\".format(entity_synonyms_file))\n"
     ]
    }
   ],
   "source": [
    "interpreter = Interpreter.load('./models/faq_chatbot_nlu/default/faq_chatbot_nlu')"
   ]
  },
  {
   "cell_type": "code",
   "execution_count": 4,
   "metadata": {
    "collapsed": true
   },
   "outputs": [],
   "source": [
    "def run_nlu(query):\n",
    "    global interpreter\n",
    "    return interpreter.parse(query)"
   ]
  },
  {
   "cell_type": "code",
   "execution_count": 40,
   "metadata": {
    "collapsed": true
   },
   "outputs": [],
   "source": [
    "def bot():\n",
    "    print('********** Chatbot Loaded! Start typing your queries here **********')\n",
    "    print('\\n')\n",
    "    query = ''\n",
    "    while(True):\n",
    "        query = input()\n",
    "        query = query.lower()\n",
    "        if (query=='exit'):\n",
    "            break\n",
    "        parsed_query = run_nlu(query)\n",
    "        response = route(parsed_query)\n",
    "        print('A: ',response)\n",
    "        print('\\n')"
   ]
  },
  {
   "cell_type": "code",
   "execution_count": 76,
   "metadata": {
    "collapsed": true
   },
   "outputs": [],
   "source": [
    "def route(parsed_query):\n",
    "    response = 'Kindly rephrase your words'\n",
    "    intent = parsed_query['intent']['name']\n",
    "    print('( Intent:',intent,')')\n",
    "    if (intent == 'greet' or intent == 'gratitude' or intent == 'goodbye'):\n",
    "        response = general_conversation(intent)\n",
    "    if (intent == 'requirement'):\n",
    "        response = requirement(parsed_query)\n",
    "    if (intent == 'extent'):\n",
    "        response = single_entity_routing(parsed_query, intent ,'body')\n",
    "    if (intent == 'definition'):\n",
    "        response = single_entity_routing(parsed_query, intent ,'subject')\n",
    "    if (intent == 'duration'):\n",
    "        response = single_entity_routing(parsed_query, intent ,'subject')\n",
    "    if (intent == 'benefits'):\n",
    "        response = single_entity_routing(parsed_query, intent ,'subject')\n",
    "    if (intent == 'legislation'):\n",
    "        response = single_entity_routing(parsed_query, intent ,'field')\n",
    "    if (intent == 'purpose'):\n",
    "        response = single_entity_routing(parsed_query, intent ,'subject')\n",
    "    if (intent == 'conditions'):\n",
    "        response = single_entity_routing(parsed_query, intent ,'subject')\n",
    "    if (intent == 'validity'):\n",
    "        response = single_entity_routing(parsed_query, intent ,'country')\n",
    "    if (intent == 'procedure'):\n",
    "        response = single_entity_routing(parsed_query, intent ,'subject')\n",
    "    if (intent == 'services'):\n",
    "        response = single_entity_routing(parsed_query, intent ,'body')\n",
    "    return response"
   ]
  },
  {
   "cell_type": "code",
   "execution_count": 77,
   "metadata": {
    "collapsed": true
   },
   "outputs": [],
   "source": [
    "def single_entity_routing(parsed_query, intent, req_entity):\n",
    "    global nlp\n",
    "    print(parsed_query)\n",
    "    response = 'Kindly rephrase your words'\n",
    "    path = 'routings/'+intent+'.xlsx'\n",
    "    routings = pd.read_excel(path)\n",
    "    entities = parsed_query['entities']\n",
    "    if (len(entities) == 0):\n",
    "        return response\n",
    "    body = []\n",
    "    for entity in entities:\n",
    "        if (entity['entity'] == req_entity):\n",
    "            body.append(entity['value'])\n",
    "    if (len(body) == 0):\n",
    "        return response\n",
    "    body = body[0]\n",
    "    \n",
    "    max_similarity = None\n",
    "    max_similar_row = None\n",
    "    for item in routings[req_entity]:\n",
    "        w1 = nlp(body)\n",
    "        w2 = nlp(item)\n",
    "        similarity = w1.similarity(w2)\n",
    "        if (max_similarity == None):\n",
    "            max_similarity = similarity\n",
    "            max_similar_row = routings[routings[req_entity] == item]\n",
    "        if (max_similarity < similarity):\n",
    "            max_similarity = similarity\n",
    "            max_similar_row = routings[routings[req_entity] == item]            \n",
    "    if (len(max_similar_row) == 0):\n",
    "        return response\n",
    "    for item in max_similar_row['response']:\n",
    "        response = item\n",
    "    return response"
   ]
  },
  {
   "cell_type": "code",
   "execution_count": 78,
   "metadata": {
    "collapsed": true
   },
   "outputs": [],
   "source": [
    "def requirement(parsed_query):\n",
    "    global nlp\n",
    "    response = 'Kindly rephrase your words'\n",
    "    requirement_routings = pd.read_excel('routings/requirement.xlsx')\n",
    "    entities = parsed_query['entities']\n",
    "    \n",
    "    if (len(entities) == 0):\n",
    "        return response\n",
    "    \n",
    "    status = []\n",
    "    for entity in entities:\n",
    "        if (entity['entity'] == 'status'):\n",
    "            status.append(entity['value'])\n",
    "    if (len(status) == 0):\n",
    "        print('Please enter a status card that you hold')\n",
    "        flag = 0\n",
    "        while(flag == 0):\n",
    "            status_query = input().lower()\n",
    "            status_query_entities = run_nlu(status_query)['entities']\n",
    "            if (len(status_query_entities) == 0):\n",
    "                print('Kindly rephrase your words and enter a valid status')\n",
    "            else:\n",
    "                status_detected = status_query_entities[0]['value']\n",
    "                flag = 1   \n",
    "        status.append(status_detected)\n",
    "\n",
    "    status = status[0]\n",
    "    data = requirement_routings[requirement_routings['status'].isnull() == False]   \n",
    "    required_row = data[data['status'] == status]\n",
    "    if (len(required_row) == 0):\n",
    "        return 'Sorry! No such information found.'\n",
    "    response = required_row['response'][0]\n",
    "    return response"
   ]
  },
  {
   "cell_type": "code",
   "execution_count": null,
   "metadata": {
    "collapsed": true
   },
   "outputs": [],
   "source": [
    "def general_conversation(intent):\n",
    "    if (intent == 'greet'):\n",
    "        return \"Hi! I'm the Invest India Visa Chatbot\"\n",
    "    if (intent == 'gratitude'):\n",
    "        return \"It was a pleasure helping you\"\n",
    "    if (intent == 'goodbye'):\n",
    "        return \"Goodbye! Would love to hear from you again\""
   ]
  },
  {
   "cell_type": "code",
   "execution_count": null,
   "metadata": {
    "collapsed": false
   },
   "outputs": [
    {
     "name": "stdout",
     "output_type": "stream",
     "text": [
      "********** Chatbot Loaded! Start typing your queries here **********\n",
      "\n",
      "\n",
      "what are the services offered at embassies\n",
      "( Intent: services )\n",
      "{'intent': {'name': 'services', 'confidence': 0.57291154154843449}, 'entities': [], 'intent_ranking': [{'name': 'services', 'confidence': 0.57291154154843449}, {'name': 'address', 'confidence': 0.062128085414184631}, {'name': 'contact', 'confidence': 0.042269527213155564}, {'name': 'benefits', 'confidence': 0.042010915054758895}, {'name': 'extent', 'confidence': 0.040426126967109871}, {'name': 'legislation', 'confidence': 0.034832872960216393}, {'name': 'conditions', 'confidence': 0.030585435501493743}, {'name': 'types', 'confidence': 0.026148823400381903}, {'name': 'email', 'confidence': 0.025629301864322846}, {'name': 'procedure', 'confidence': 0.023415184852953162}], 'text': 'what are the services offered at embassies'}\n",
      "A:  Kindly rephrase your words\n",
      "\n",
      "\n",
      "services at embassies\n",
      "( Intent: services )\n",
      "{'intent': {'name': 'services', 'confidence': 0.95466784647752245}, 'entities': [], 'intent_ranking': [{'name': 'services', 'confidence': 0.95466784647752245}, {'name': 'address', 'confidence': 0.0088226374273439045}, {'name': 'contact', 'confidence': 0.0069980656470695892}, {'name': 'extent', 'confidence': 0.0051384079427272671}, {'name': 'email', 'confidence': 0.0032016382532894213}, {'name': 'requirement', 'confidence': 0.0029533279683646111}, {'name': 'validity', 'confidence': 0.0028040912067798284}, {'name': 'gratitude', 'confidence': 0.0027560768463805929}, {'name': 'legislation', 'confidence': 0.002201682394495124}, {'name': 'procedure', 'confidence': 0.0019023064437860399}], 'text': 'services at embassies'}\n",
      "A:  Kindly rephrase your words\n",
      "\n",
      "\n",
      "embassy services\n",
      "( Intent: services )\n",
      "{'intent': {'name': 'services', 'confidence': 0.91502169133813926}, 'entities': [], 'intent_ranking': [{'name': 'services', 'confidence': 0.91502169133813926}, {'name': 'extent', 'confidence': 0.034021036402661256}, {'name': 'address', 'confidence': 0.0090869490426549963}, {'name': 'requirement', 'confidence': 0.0086316598025696304}, {'name': 'contact', 'confidence': 0.0071991946411395181}, {'name': 'email', 'confidence': 0.0062391408152170221}, {'name': 'legislation', 'confidence': 0.0038119172968365507}, {'name': 'validity', 'confidence': 0.0035912888161398868}, {'name': 'gratitude', 'confidence': 0.0029233669378690725}, {'name': 'procedure', 'confidence': 0.0026188619778179712}], 'text': 'embassy services'}\n",
      "A:  Kindly rephrase your words\n",
      "\n",
      "\n",
      "indian embassy services\n",
      "( Intent: services )\n",
      "{'intent': {'name': 'services', 'confidence': 0.80348905716484798}, 'entities': [], 'intent_ranking': [{'name': 'services', 'confidence': 0.80348905716484798}, {'name': 'extent', 'confidence': 0.14299713835259434}, {'name': 'requirement', 'confidence': 0.016068506303616996}, {'name': 'address', 'confidence': 0.0083901420359208789}, {'name': 'validity', 'confidence': 0.0076693390308281185}, {'name': 'legislation', 'confidence': 0.0062988270791898048}, {'name': 'email', 'confidence': 0.0047338546995883118}, {'name': 'contact', 'confidence': 0.0032609197442515837}, {'name': 'benefits', 'confidence': 0.0013916276356847684}, {'name': 'gratitude', 'confidence': 0.0010439954121016554}], 'text': 'indian embassy services'}\n",
      "A:  Kindly rephrase your words\n",
      "\n",
      "\n",
      "what are the services at indian consulates\n",
      "( Intent: services )\n",
      "{'intent': {'name': 'services', 'confidence': 0.71260045826781215}, 'entities': [{'start': 32, 'end': 42, 'value': 'consulates', 'entity': 'body', 'confidence': 0.9728889727708298, 'extractor': 'ner_crf'}], 'intent_ranking': [{'name': 'services', 'confidence': 0.71260045826781215}, {'name': 'address', 'confidence': 0.049593614588617004}, {'name': 'extent', 'confidence': 0.046689016667558467}, {'name': 'legislation', 'confidence': 0.03080296087298541}, {'name': 'benefits', 'confidence': 0.025857994744223515}, {'name': 'contact', 'confidence': 0.018222845096601051}, {'name': 'email', 'confidence': 0.017313774275022766}, {'name': 'types', 'confidence': 0.013306983776751017}, {'name': 'definition', 'confidence': 0.012982428999386115}, {'name': 'procedure', 'confidence': 0.012774946468326474}], 'text': 'what are the services at indian consulates'}\n",
      "A:  The key support services offered at Indian diplomatic missions abroad are : Visa Services, Passport Services, E-Tourist Visa (eTV), Services for OCI/POI cardholders, Emergency travel documents, Attestation services, Indian citizenship assistance, Advisory services to Indian nationals.\n",
      "\n",
      "\n"
     ]
    }
   ],
   "source": [
    "bot()"
   ]
  },
  {
   "cell_type": "code",
   "execution_count": null,
   "metadata": {
    "collapsed": true
   },
   "outputs": [],
   "source": []
  },
  {
   "cell_type": "code",
   "execution_count": null,
   "metadata": {
    "collapsed": true
   },
   "outputs": [],
   "source": []
  }
 ],
 "metadata": {
  "kernelspec": {
   "display_name": "Python 3",
   "language": "python",
   "name": "python3"
  },
  "language_info": {
   "codemirror_mode": {
    "name": "ipython",
    "version": 3
   },
   "file_extension": ".py",
   "mimetype": "text/x-python",
   "name": "python",
   "nbconvert_exporter": "python",
   "pygments_lexer": "ipython3",
   "version": "3.6.0"
  }
 },
 "nbformat": 4,
 "nbformat_minor": 2
}
