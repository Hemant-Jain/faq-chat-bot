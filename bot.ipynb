{
 "cells": [
  {
   "cell_type": "code",
   "execution_count": 1,
   "metadata": {
    "collapsed": true
   },
   "outputs": [],
   "source": [
    "import spacy\n",
    "import numpy as np\n",
    "import pandas as pd\n",
    "from rasa_nlu.model import Interpreter"
   ]
  },
  {
   "cell_type": "code",
   "execution_count": 2,
   "metadata": {
    "collapsed": true
   },
   "outputs": [],
   "source": [
    "nlp = spacy.load('en')"
   ]
  },
  {
   "cell_type": "code",
   "execution_count": 3,
   "metadata": {
    "collapsed": false
   },
   "outputs": [
    {
     "name": "stderr",
     "output_type": "stream",
     "text": [
      "C:\\Users\\Utkarsh Sah\\Anaconda3\\lib\\site-packages\\rasa_nlu\\extractors\\entity_synonyms.py:85: UserWarning: Failed to load synonyms file from './models/faq_chatbot_nlu/default/faq_chatbot_nlu\\entity_synonyms.json'\n",
      "  \"\".format(entity_synonyms_file))\n"
     ]
    }
   ],
   "source": [
    "interpreter = Interpreter.load('./models/faq_chatbot_nlu/default/faq_chatbot_nlu')"
   ]
  },
  {
   "cell_type": "code",
   "execution_count": 4,
   "metadata": {
    "collapsed": true
   },
   "outputs": [],
   "source": [
    "def run_nlu(query):\n",
    "    global interpreter\n",
    "    return interpreter.parse(query)"
   ]
  },
  {
   "cell_type": "code",
   "execution_count": 5,
   "metadata": {
    "collapsed": true
   },
   "outputs": [],
   "source": [
    "def bot():\n",
    "    print('********** Chatbot Loaded! Start typing your queries here **********')\n",
    "    query = ''\n",
    "    while(True):\n",
    "        query = input()\n",
    "        query = query.lower()\n",
    "        if (query=='exit'):\n",
    "            break\n",
    "        parsed_query = run_nlu(query)\n",
    "        response = route(parsed_query)\n",
    "        print('A: ',response)\n",
    "        print('\\n')"
   ]
  },
  {
   "cell_type": "code",
   "execution_count": 22,
   "metadata": {
    "collapsed": true
   },
   "outputs": [],
   "source": [
    "def route(parsed_query):\n",
    "    response = 'Kindly rephrase your words'\n",
    "    intent = parsed_query['intent']['name']\n",
    "    print('Intent:',intent)\n",
    "    if (intent == 'greet' or intent == 'gratitude' or intent == 'goodbye'):\n",
    "        response = general_conversation(intent)\n",
    "    if (intent == 'requirement'):\n",
    "        response = requirement(parsed_query)\n",
    "    if (intent == 'extent'):\n",
    "        response = single_entity_routing(parsed_query, intent ,'body')\n",
    "    if (intent == 'definition'):\n",
    "        response = single_entity_routing(parsed_query, intent ,'subject')\n",
    "    if (intent == 'duration'):\n",
    "        response = single_entity_routing(parsed_query, intent ,'subject')\n",
    "    if (intent == 'benefits'):\n",
    "        response = single_entity_routing(parsed_query, intent ,'subject')\n",
    "    if (intent == 'legislation'):\n",
    "        response = single_entity_routing(parsed_query, intent ,'field')\n",
    "    return response"
   ]
  },
  {
   "cell_type": "code",
   "execution_count": 23,
   "metadata": {
    "collapsed": true
   },
   "outputs": [],
   "source": [
    "def extent(parsed_query):\n",
    "    global nlp\n",
    "    response = 'Kindly rephrase your words'\n",
    "    extent_routings = pd.read_excel('routings/extent.xlsx')\n",
    "    entities = parsed_query['entities']\n",
    "    if (len(entities) == 0):\n",
    "        return response\n",
    "    body = []\n",
    "    for entity in entities:\n",
    "        if (entity['entity'] == 'body'):\n",
    "            body.append(entity['value'])\n",
    "    if (len(body) == 0):\n",
    "        return response\n",
    "    body = body[0]\n",
    "    \n",
    "    max_similarity = None\n",
    "    max_similar_row = None\n",
    "    for item in extent_routings['body']:\n",
    "        w1 = nlp(body)\n",
    "        w2 = nlp(item)\n",
    "        similarity = w1.similarity(w2)\n",
    "        if (max_similarity == None):\n",
    "            max_similarity = similarity\n",
    "            max_similar_row = extent_routings[extent_routings['body'] == item]\n",
    "        if (max_similarity < similarity):\n",
    "            max_similarity = similarity\n",
    "            max_similar_row = extent_routings[extent_routings['body'] == item]            \n",
    "    if (len(max_similar_row) == 0):\n",
    "        return response\n",
    "    for item in max_similar_row['response']:\n",
    "        response = item\n",
    "    return response"
   ]
  },
  {
   "cell_type": "code",
   "execution_count": 24,
   "metadata": {
    "collapsed": true
   },
   "outputs": [],
   "source": [
    "def single_entity_routing(parsed_query, intent, req_entity):\n",
    "    global nlp\n",
    "    response = 'Kindly rephrase your words'\n",
    "    path = 'routings/'+intent+'.xlsx'\n",
    "    routings = pd.read_excel(path)\n",
    "    entities = parsed_query['entities']\n",
    "    if (len(entities) == 0):\n",
    "        return response\n",
    "    body = []\n",
    "    for entity in entities:\n",
    "        if (entity['entity'] == req_entity):\n",
    "            body.append(entity['value'])\n",
    "    if (len(body) == 0):\n",
    "        return response\n",
    "    body = body[0]\n",
    "    \n",
    "    max_similarity = None\n",
    "    max_similar_row = None\n",
    "    for item in routings[req_entity]:\n",
    "        w1 = nlp(body)\n",
    "        w2 = nlp(item)\n",
    "        similarity = w1.similarity(w2)\n",
    "        if (max_similarity == None):\n",
    "            max_similarity = similarity\n",
    "            max_similar_row = routings[routings[req_entity] == item]\n",
    "        if (max_similarity < similarity):\n",
    "            max_similarity = similarity\n",
    "            max_similar_row = routings[routings[req_entity] == item]            \n",
    "    if (len(max_similar_row) == 0):\n",
    "        return response\n",
    "    for item in max_similar_row['response']:\n",
    "        response = item\n",
    "    return response"
   ]
  },
  {
   "cell_type": "code",
   "execution_count": 25,
   "metadata": {
    "collapsed": true
   },
   "outputs": [],
   "source": [
    "def requirement(parsed_query):\n",
    "    global nlp\n",
    "    response = 'Kindly rephrase your words'\n",
    "    requirement_routings = pd.read_excel('routings/requirement.xlsx')\n",
    "    entities = parsed_query['entities']\n",
    "    \n",
    "    if (len(entities) == 0):\n",
    "        return response\n",
    "    \n",
    "    status = []\n",
    "    for entity in entities:\n",
    "        if (entity['entity'] == 'status'):\n",
    "            status.append(entity['value'])\n",
    "    if (len(status) == 0):\n",
    "        print('Please enter a status card that you hold')\n",
    "        flag = 0\n",
    "        while(flag == 0):\n",
    "            status_query = input().lower()\n",
    "            status_query_entities = run_nlu(status_query)['entities']\n",
    "            if (len(status_query_entities) == 0):\n",
    "                print('Kindly rephrase your words and enter a valid status')\n",
    "            else:\n",
    "                status_detected = status_query_entities[0]['value']\n",
    "                flag = 1   \n",
    "        status.append(status_detected)\n",
    "\n",
    "    status = status[0]\n",
    "    data = requirement_routings[requirement_routings['status'].isnull() == False]   \n",
    "    required_row = data[data['status'] == status]\n",
    "    if (len(required_row) == 0):\n",
    "        return 'Sorry! No such information found.'\n",
    "    response = required_row['response'][0]\n",
    "    return response"
   ]
  },
  {
   "cell_type": "code",
   "execution_count": null,
   "metadata": {
    "collapsed": true
   },
   "outputs": [],
   "source": [
    "def general_conversation(intent):\n",
    "    if (intent == 'greet'):\n",
    "        return \"Hi! I'm the Invest India Visa Chatbot\"\n",
    "    if (intent == 'gratitude'):\n",
    "        return \"It was a pleasure helping you\"\n",
    "    if (intent == 'goodbye'):\n",
    "        return \"Goodbye! Would love to hear from you again\""
   ]
  },
  {
   "cell_type": "code",
   "execution_count": null,
   "metadata": {
    "collapsed": false
   },
   "outputs": [
    {
     "name": "stdout",
     "output_type": "stream",
     "text": [
      "********** Chatbot Loaded! Start typing your queries here **********\n",
      "legislation under ministry of home affairs\n",
      "Intent: legislation\n",
      "A:  Following are the legislations under Ministry of Home Affairs\n",
      "• The Foreigner’s Act, 1946 and Foreigner’s Order, 1948\n",
      "       • A law to regulate foreigner’s entry, presence (places of visit, movements and activities) and exit from India.\n",
      "• The Registration of Foreigners Act, 1939 and The Registration of Foreigners Rules, 1992\n",
      "       • A law to regulate registration of foreigners entering India. It also prescribes time and manner in which such registration must be completed.\n",
      "\n",
      "\n"
     ]
    }
   ],
   "source": [
    "bot()"
   ]
  },
  {
   "cell_type": "code",
   "execution_count": null,
   "metadata": {
    "collapsed": true
   },
   "outputs": [],
   "source": []
  },
  {
   "cell_type": "code",
   "execution_count": null,
   "metadata": {
    "collapsed": true
   },
   "outputs": [],
   "source": []
  }
 ],
 "metadata": {
  "kernelspec": {
   "display_name": "Python 3",
   "language": "python",
   "name": "python3"
  },
  "language_info": {
   "codemirror_mode": {
    "name": "ipython",
    "version": 3
   },
   "file_extension": ".py",
   "mimetype": "text/x-python",
   "name": "python",
   "nbconvert_exporter": "python",
   "pygments_lexer": "ipython3",
   "version": "3.6.0"
  }
 },
 "nbformat": 4,
 "nbformat_minor": 2
}
