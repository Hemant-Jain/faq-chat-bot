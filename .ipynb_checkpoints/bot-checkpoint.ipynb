{
 "cells": [
  {
   "cell_type": "code",
   "execution_count": 44,
   "metadata": {
    "collapsed": true
   },
   "outputs": [],
   "source": [
    "from rasa_nlu.training_data import load_data\n",
    "from rasa_nlu import config\n",
    "from rasa_nlu.model import Trainer, Metadata, Interpreter"
   ]
  },
  {
   "cell_type": "code",
   "execution_count": 45,
   "metadata": {
    "collapsed": true
   },
   "outputs": [],
   "source": [
    "def train_nlu(data, configuration, model_dir):\n",
    "    training_data = load_data(data)\n",
    "    trainer = Trainer(config.load(configuration))\n",
    "    trainer.train(training_data)\n",
    "    model_directory = trainer.persist(model_dir,fixed_model_name='faq_chatbot_nlu')"
   ]
  },
  {
   "cell_type": "code",
   "execution_count": 46,
   "metadata": {
    "collapsed": true
   },
   "outputs": [],
   "source": [
    "train_nlu_model_switch = True"
   ]
  },
  {
   "cell_type": "code",
   "execution_count": 65,
   "metadata": {
    "collapsed": false
   },
   "outputs": [
    {
     "name": "stdout",
     "output_type": "stream",
     "text": [
      "Fitting 2 folds for each of 6 candidates, totalling 12 fits\n"
     ]
    },
    {
     "name": "stderr",
     "output_type": "stream",
     "text": [
      "[Parallel(n_jobs=1)]: Done  12 out of  12 | elapsed:    0.3s finished\n"
     ]
    }
   ],
   "source": [
    "if (train_nlu_model_switch):\n",
    "    train_nlu('./data/data.json','spacy_configuration.json','./models/faq_chatbot_nlu')"
   ]
  },
  {
   "cell_type": "code",
   "execution_count": 66,
   "metadata": {
    "collapsed": true
   },
   "outputs": [],
   "source": [
    "def run_nlu(query):\n",
    "    interpreter = Interpreter.load('./models/faq_chatbot_nlu/default/faq_chatbot_nlu')\n",
    "    return interpreter.parse(query)"
   ]
  },
  {
   "cell_type": "code",
   "execution_count": 75,
   "metadata": {
    "collapsed": true
   },
   "outputs": [],
   "source": [
    "query = 'can you explain the meaning of usd'"
   ]
  },
  {
   "cell_type": "code",
   "execution_count": 76,
   "metadata": {
    "collapsed": false
   },
   "outputs": [
    {
     "name": "stderr",
     "output_type": "stream",
     "text": [
      "C:\\Users\\Utkarsh Sah\\Anaconda3\\lib\\site-packages\\rasa_nlu\\extractors\\entity_synonyms.py:85: UserWarning: Failed to load synonyms file from './models/faq_chatbot_nlu/default/faq_chatbot_nlu\\entity_synonyms.json'\n",
      "  \"\".format(entity_synonyms_file))\n"
     ]
    },
    {
     "data": {
      "text/plain": [
       "{'entities': [{'confidence': 0.5908090884932593,\n",
       "   'end': 34,\n",
       "   'entity': 'area',\n",
       "   'extractor': 'ner_crf',\n",
       "   'start': 31,\n",
       "   'value': 'usd'}],\n",
       " 'intent': {'confidence': 0.87652434870120977, 'name': 'definition'},\n",
       " 'intent_ranking': [{'confidence': 0.87652434870120977, 'name': 'definition'},\n",
       "  {'confidence': 0.047450152623332527, 'name': 'address'},\n",
       "  {'confidence': 0.015922747847979209, 'name': 'conditions'},\n",
       "  {'confidence': 0.015631673336571162, 'name': 'contact'},\n",
       "  {'confidence': 0.015554067624025126, 'name': 'benefits'},\n",
       "  {'confidence': 0.013287554924850311, 'name': 'goodbye'},\n",
       "  {'confidence': 0.0090449040013226324, 'name': 'greet'},\n",
       "  {'confidence': 0.0065845509407090972, 'name': 'gratitude'}],\n",
       " 'text': 'can you explain the meaning of usd'}"
      ]
     },
     "execution_count": 76,
     "metadata": {},
     "output_type": "execute_result"
    }
   ],
   "source": [
    "parsed_query = run_nlu(query)\n",
    "parsed_query"
   ]
  },
  {
   "cell_type": "code",
   "execution_count": null,
   "metadata": {
    "collapsed": true
   },
   "outputs": [],
   "source": []
  }
 ],
 "metadata": {
  "kernelspec": {
   "display_name": "Python 3",
   "language": "python",
   "name": "python3"
  },
  "language_info": {
   "codemirror_mode": {
    "name": "ipython",
    "version": 3
   },
   "file_extension": ".py",
   "mimetype": "text/x-python",
   "name": "python",
   "nbconvert_exporter": "python",
   "pygments_lexer": "ipython3",
   "version": "3.6.0"
  }
 },
 "nbformat": 4,
 "nbformat_minor": 2
}
