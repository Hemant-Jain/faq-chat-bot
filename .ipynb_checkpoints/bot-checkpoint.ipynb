{
 "cells": [
  {
   "cell_type": "code",
   "execution_count": 1,
   "metadata": {
    "collapsed": true
   },
   "outputs": [],
   "source": [
    "import spacy\n",
    "import numpy as np\n",
    "import pandas as pd\n",
    "from rasa_nlu.model import Interpreter"
   ]
  },
  {
   "cell_type": "code",
   "execution_count": 2,
   "metadata": {
    "collapsed": true
   },
   "outputs": [],
   "source": [
    "nlp = spacy.load('en')"
   ]
  },
  {
   "cell_type": "code",
   "execution_count": 3,
   "metadata": {
    "collapsed": false
   },
   "outputs": [
    {
     "name": "stderr",
     "output_type": "stream",
     "text": [
      "C:\\Users\\Utkarsh Sah\\Anaconda3\\lib\\site-packages\\rasa_nlu\\extractors\\entity_synonyms.py:85: UserWarning: Failed to load synonyms file from './models/faq_chatbot_nlu/default/faq_chatbot_nlu\\entity_synonyms.json'\n",
      "  \"\".format(entity_synonyms_file))\n"
     ]
    }
   ],
   "source": [
    "interpreter = Interpreter.load('./models/faq_chatbot_nlu/default/faq_chatbot_nlu')"
   ]
  },
  {
   "cell_type": "code",
   "execution_count": 4,
   "metadata": {
    "collapsed": true
   },
   "outputs": [],
   "source": [
    "def run_nlu(query):\n",
    "    global interpreter\n",
    "    return interpreter.parse(query)"
   ]
  },
  {
   "cell_type": "code",
   "execution_count": 29,
   "metadata": {
    "collapsed": true
   },
   "outputs": [],
   "source": [
    "def bot():\n",
    "    print('********** Chatbot Loaded! Start typing your queries here **********')\n",
    "    print('\\n')\n",
    "    query = ''\n",
    "    while(True):\n",
    "        query = input()\n",
    "        query = query.lower()\n",
    "        if (query=='exit'):\n",
    "            break\n",
    "        parsed_query = run_nlu(query)\n",
    "        response = route(parsed_query)\n",
    "        print('A: ',response)\n",
    "        print('\\n')"
   ]
  },
  {
   "cell_type": "code",
   "execution_count": 37,
   "metadata": {
    "collapsed": true
   },
   "outputs": [],
   "source": [
    "def route(parsed_query):\n",
    "    response = 'Kindly rephrase your words'\n",
    "    demand_optional_entity_message = 'Please enter required information'\n",
    "    intent = parsed_query['intent']['name']\n",
    "    print('( Intent:',intent,')')\n",
    "    if (intent == 'greet' or intent == 'gratitude' or intent == 'goodbye'):\n",
    "        response = general_conversation(intent)\n",
    "    if (intent == 'requirement'):\n",
    "        response = requirement(parsed_query)\n",
    "    if (intent == 'extent'):\n",
    "        response = single_entity_routing(parsed_query, intent ,'body')\n",
    "    if (intent == 'definition'):\n",
    "        response = single_entity_routing(parsed_query, intent ,'subject')\n",
    "    if (intent == 'duration'):\n",
    "        response = single_entity_routing(parsed_query, intent ,'subject')\n",
    "    if (intent == 'benefits'):\n",
    "        response = single_entity_routing(parsed_query, intent ,'subject')\n",
    "    if (intent == 'legislation'):\n",
    "        response = single_entity_routing(parsed_query, intent ,'field')\n",
    "    if (intent == 'purpose'):\n",
    "        response = single_entity_routing(parsed_query, intent ,'subject')\n",
    "    if (intent == 'conditions'):\n",
    "        response = single_entity_routing(parsed_query, intent ,'subject')\n",
    "    if (intent == 'validity'):\n",
    "        response = single_entity_routing(parsed_query, intent ,'country')\n",
    "    if (intent == 'procedure'):\n",
    "        response = single_entity_routing(parsed_query, intent ,'subject')\n",
    "    if (intent == 'services'):\n",
    "        response = single_entity_routing(parsed_query, intent ,'body')\n",
    "    if (intent == 'address'):\n",
    "        demand_optional_entity_message = 'For which city do you need the address for?'\n",
    "        response = one_optional_double_entity_routing(parsed_query, intent ,'body','area', demand_optional_entity_message)\n",
    "    if (intent == 'contact'):\n",
    "        demand_optional_entity_message = 'For which city do you need the contact for?'\n",
    "        response = one_optional_double_entity_routing(parsed_query, intent ,'body','area', demand_optional_entity_message)\n",
    "    if (intent == 'email'):\n",
    "        demand_optional_entity_message = 'For which city do you need the email for?'\n",
    "        response = one_optional_double_entity_routing(parsed_query, intent ,'body','area', demand_optional_entity_message)\n",
    "    if (intent == 'types'):\n",
    "        print(parsed_query)\n",
    "        demand_optional_entity_message = 'Please mention any status or card that you hold'\n",
    "        response = one_optional_double_entity_routing(parsed_query, intent ,'subject','status', demand_optional_entity_message)\n",
    "    return response"
   ]
  },
  {
   "cell_type": "code",
   "execution_count": 38,
   "metadata": {
    "collapsed": true
   },
   "outputs": [],
   "source": [
    "def most_similar_rows(routings, req_entity, req_entity_value):\n",
    "    global nlp\n",
    "    similarity_score = []\n",
    "    for item in routings[req_entity]:\n",
    "        w1 = nlp(req_entity_value)\n",
    "        w2 = nlp(item)\n",
    "        similarity = w1.similarity(w2)\n",
    "        similarity_score.append(similarity)\n",
    "    max_similarity_score = max(similarity_score)\n",
    "    routings['score'] = similarity_score\n",
    "    req_entity_rows = routings[routings['score'] == max_similarity_score]\n",
    "    return req_entity_rows"
   ]
  },
  {
   "cell_type": "code",
   "execution_count": 39,
   "metadata": {
    "collapsed": false
   },
   "outputs": [],
   "source": [
    "def one_optional_double_entity_routing(parsed_query, intent, req_entity, optional_entity, demand_optional_entity_message):\n",
    "    global nlp\n",
    "    response = 'Kindly rephrase your words'\n",
    "    path = 'routings/'+intent+'.xlsx'\n",
    "    routings = pd.read_excel(path)\n",
    "    entities = parsed_query['entities']\n",
    "    if (len(entities) == 0):\n",
    "        return response\n",
    "    \n",
    "    req_entity_value = []\n",
    "    for entity in entities:\n",
    "        if (entity['entity'] == req_entity):\n",
    "            req_entity_value.append(entity['value'])\n",
    "    if (len(req_entity_value) == 0):\n",
    "        return 'No such information found.'\n",
    "    req_entity_value = req_entity_value[0]\n",
    "    \n",
    "    demand_optional_entity = False\n",
    "    req_entity_rows = most_similar_rows(routings, req_entity, req_entity_value)\n",
    "    independent_row = req_entity_rows[req_entity_rows[optional_entity].isnull()]\n",
    "    \n",
    "    if (not(len(entities) == 1 and len(independent_row) == 1)):\n",
    "        demand_optional_entity = True\n",
    "\n",
    "    if (not demand_optional_entity):\n",
    "        for item in req_entity_rows['response']:\n",
    "            response = item\n",
    "        return response\n",
    "    \n",
    "    optional_entity_value = []\n",
    "    for entity in entities:\n",
    "        if (entity['entity'] == optional_entity):\n",
    "            optional_entity_value.append(entity['value'])\n",
    "    if (len(optional_entity_value) == 0):\n",
    "        print(demand_optional_entity_message)\n",
    "        \n",
    "        flag = 0\n",
    "        optional_entity_detected = []\n",
    "        while (flag == 0):\n",
    "            optional_entity_query = input().lower()\n",
    "            optional_query_entities = run_nlu(optional_entity_query)['entities']\n",
    "            if (len(optional_query_entities) == 0):\n",
    "                print('Kindly enter a valid',optional_entity)\n",
    "            else:\n",
    "                for entity in optional_query_entities:\n",
    "                    if (entity['entity'] == optional_entity): \n",
    "                        optional_entity_detected.append(entity['value'])\n",
    "                        flag = 1\n",
    "                if (len(optional_entity_detected) == 0):\n",
    "                    print('Kindly enter a valid',optional_entity)\n",
    "                else:\n",
    "                    optional_entity_detected = optional_entity_detected[0]\n",
    "                    optional_entity_value.append(optional_entity_detected)\n",
    "    \n",
    "    optional_entity_value = optional_entity_value[0]\n",
    "    optional_entity_rows = most_similar_rows(req_entity_rows, optional_entity, optional_entity_value)\n",
    "    for item in optional_entity_rows['response']:\n",
    "        response = item\n",
    "    \n",
    "    return response"
   ]
  },
  {
   "cell_type": "code",
   "execution_count": 40,
   "metadata": {
    "collapsed": true
   },
   "outputs": [],
   "source": [
    "def single_entity_routing(parsed_query, intent, req_entity):\n",
    "    global nlp\n",
    "    response = 'Kindly rephrase your words'\n",
    "    path = 'routings/'+intent+'.xlsx'\n",
    "    routings = pd.read_excel(path)\n",
    "    entities = parsed_query['entities']\n",
    "    if (len(entities) == 0):\n",
    "        return response\n",
    "    req_entity_value = []\n",
    "    for entity in entities:\n",
    "        if (entity['entity'] == req_entity):\n",
    "            req_entity_value.append(entity['value'])\n",
    "    if (len(req_entity_value) == 0):\n",
    "        return response\n",
    "    req_entity_value = req_entity_value[0]\n",
    "    \n",
    "    max_similarity = None\n",
    "    max_similar_row = None\n",
    "    for item in routings[req_entity]:\n",
    "        w1 = nlp(req_entity_value)\n",
    "        w2 = nlp(item)\n",
    "        similarity = w1.similarity(w2)\n",
    "        if (max_similarity == None):\n",
    "            max_similarity = similarity\n",
    "            max_similar_row = routings[routings[req_entity] == item]\n",
    "        if (max_similarity < similarity):\n",
    "            max_similarity = similarity\n",
    "            max_similar_row = routings[routings[req_entity] == item]            \n",
    "    if (len(max_similar_row) == 0):\n",
    "        return response\n",
    "    for item in max_similar_row['response']:\n",
    "        response = item\n",
    "    return response"
   ]
  },
  {
   "cell_type": "code",
   "execution_count": 41,
   "metadata": {
    "collapsed": true
   },
   "outputs": [],
   "source": [
    "def requirement(parsed_query):\n",
    "    global nlp\n",
    "    response = 'Kindly rephrase your words'\n",
    "    requirement_routings = pd.read_excel('routings/requirement.xlsx')\n",
    "    entities = parsed_query['entities']\n",
    "    \n",
    "    if (len(entities) == 0):\n",
    "        return response\n",
    "    \n",
    "    status = []\n",
    "    for entity in entities:\n",
    "        if (entity['entity'] == 'status'):\n",
    "            status.append(entity['value'])\n",
    "    if (len(status) == 0):\n",
    "        print('Please enter a status card that you hold')\n",
    "        flag = 0\n",
    "        while(flag == 0):\n",
    "            status_query = input().lower()\n",
    "            status_query_entities = run_nlu(status_query)['entities']\n",
    "            if (len(status_query_entities) == 0):\n",
    "                print('Kindly rephrase your words and enter a valid status')\n",
    "            else:\n",
    "                status_detected = status_query_entities[0]['value']\n",
    "                flag = 1   \n",
    "        status.append(status_detected)\n",
    "\n",
    "    status = status[0]\n",
    "    data = requirement_routings[requirement_routings['status'].isnull() == False]   \n",
    "    required_row = data[data['status'] == status]\n",
    "    if (len(required_row) == 0):\n",
    "        return 'Sorry! No such information found.'\n",
    "    response = required_row['response'][0]\n",
    "    return response"
   ]
  },
  {
   "cell_type": "code",
   "execution_count": 42,
   "metadata": {
    "collapsed": true
   },
   "outputs": [],
   "source": [
    "def general_conversation(intent):\n",
    "    if (intent == 'greet'):\n",
    "        return \"Hi! I'm the Invest India Visa Chatbot\"\n",
    "    if (intent == 'gratitude'):\n",
    "        return \"It was a pleasure helping you\"\n",
    "    if (intent == 'goodbye'):\n",
    "        return \"Goodbye! Would love to hear from you again\""
   ]
  },
  {
   "cell_type": "code",
   "execution_count": 44,
   "metadata": {
    "collapsed": false
   },
   "outputs": [
    {
     "name": "stdout",
     "output_type": "stream",
     "text": [
      "********** Chatbot Loaded! Start typing your queries here **********\n",
      "\n",
      "\n",
      "types of taxable income for ror\n",
      "( Intent: types )\n",
      "{'intent': {'name': 'types', 'confidence': 0.97453018293310434}, 'entities': [{'start': 17, 'end': 23, 'value': 'income', 'entity': 'subject', 'confidence': 0.9094437879239846, 'extractor': 'ner_crf'}, {'start': 28, 'end': 31, 'value': 'ror', 'entity': 'status', 'confidence': 0.9341835931345035, 'extractor': 'ner_crf'}], 'intent_ranking': [{'name': 'types', 'confidence': 0.97453018293310434}, {'name': 'benefits', 'confidence': 0.010600855292545676}, {'name': 'conditions', 'confidence': 0.0027721708599605251}, {'name': 'procedure', 'confidence': 0.0025245005744539855}, {'name': 'address', 'confidence': 0.0015565908005802792}, {'name': 'legislation', 'confidence': 0.0012531046594220323}, {'name': 'contact', 'confidence': 0.0011618715291739276}, {'name': 'definition', 'confidence': 0.0008902843320279715}, {'name': 'gratitude', 'confidence': 0.00072809522003602933}, {'name': 'duration', 'confidence': 0.00063506095563767078}], 'text': 'types of taxable income for ror'}\n"
     ]
    },
    {
     "ename": "TypeError",
     "evalue": "object of type 'float' has no len()",
     "output_type": "error",
     "traceback": [
      "\u001b[0;31m---------------------------------------------------------------------------\u001b[0m",
      "\u001b[0;31mTypeError\u001b[0m                                 Traceback (most recent call last)",
      "\u001b[0;32m<ipython-input-44-19a759c34b2e>\u001b[0m in \u001b[0;36m<module>\u001b[0;34m()\u001b[0m\n\u001b[0;32m----> 1\u001b[0;31m \u001b[0mbot\u001b[0m\u001b[1;33m(\u001b[0m\u001b[1;33m)\u001b[0m\u001b[1;33m\u001b[0m\u001b[0m\n\u001b[0m",
      "\u001b[0;32m<ipython-input-29-ded800dc8a0d>\u001b[0m in \u001b[0;36mbot\u001b[0;34m()\u001b[0m\n\u001b[1;32m      9\u001b[0m             \u001b[1;32mbreak\u001b[0m\u001b[1;33m\u001b[0m\u001b[0m\n\u001b[1;32m     10\u001b[0m         \u001b[0mparsed_query\u001b[0m \u001b[1;33m=\u001b[0m \u001b[0mrun_nlu\u001b[0m\u001b[1;33m(\u001b[0m\u001b[0mquery\u001b[0m\u001b[1;33m)\u001b[0m\u001b[1;33m\u001b[0m\u001b[0m\n\u001b[0;32m---> 11\u001b[0;31m         \u001b[0mresponse\u001b[0m \u001b[1;33m=\u001b[0m \u001b[0mroute\u001b[0m\u001b[1;33m(\u001b[0m\u001b[0mparsed_query\u001b[0m\u001b[1;33m)\u001b[0m\u001b[1;33m\u001b[0m\u001b[0m\n\u001b[0m\u001b[1;32m     12\u001b[0m         \u001b[0mprint\u001b[0m\u001b[1;33m(\u001b[0m\u001b[1;34m'A: '\u001b[0m\u001b[1;33m,\u001b[0m\u001b[0mresponse\u001b[0m\u001b[1;33m)\u001b[0m\u001b[1;33m\u001b[0m\u001b[0m\n\u001b[1;32m     13\u001b[0m         \u001b[0mprint\u001b[0m\u001b[1;33m(\u001b[0m\u001b[1;34m'\\n'\u001b[0m\u001b[1;33m)\u001b[0m\u001b[1;33m\u001b[0m\u001b[0m\n",
      "\u001b[0;32m<ipython-input-37-d84d054c3350>\u001b[0m in \u001b[0;36mroute\u001b[0;34m(parsed_query)\u001b[0m\n\u001b[1;32m     40\u001b[0m         \u001b[0mprint\u001b[0m\u001b[1;33m(\u001b[0m\u001b[0mparsed_query\u001b[0m\u001b[1;33m)\u001b[0m\u001b[1;33m\u001b[0m\u001b[0m\n\u001b[1;32m     41\u001b[0m         \u001b[0mdemand_optional_entity_message\u001b[0m \u001b[1;33m=\u001b[0m \u001b[1;34m'Please mention any status or card that you hold'\u001b[0m\u001b[1;33m\u001b[0m\u001b[0m\n\u001b[0;32m---> 42\u001b[0;31m         \u001b[0mresponse\u001b[0m \u001b[1;33m=\u001b[0m \u001b[0mone_optional_double_entity_routing\u001b[0m\u001b[1;33m(\u001b[0m\u001b[0mparsed_query\u001b[0m\u001b[1;33m,\u001b[0m \u001b[0mintent\u001b[0m \u001b[1;33m,\u001b[0m\u001b[1;34m'subject'\u001b[0m\u001b[1;33m,\u001b[0m\u001b[1;34m'status'\u001b[0m\u001b[1;33m,\u001b[0m \u001b[0mdemand_optional_entity_message\u001b[0m\u001b[1;33m)\u001b[0m\u001b[1;33m\u001b[0m\u001b[0m\n\u001b[0m\u001b[1;32m     43\u001b[0m     \u001b[1;32mreturn\u001b[0m \u001b[0mresponse\u001b[0m\u001b[1;33m\u001b[0m\u001b[0m\n",
      "\u001b[0;32m<ipython-input-39-183738b7f520>\u001b[0m in \u001b[0;36mone_optional_double_entity_routing\u001b[0;34m(parsed_query, intent, req_entity, optional_entity, demand_optional_entity_message)\u001b[0m\n\u001b[1;32m     54\u001b[0m \u001b[1;33m\u001b[0m\u001b[0m\n\u001b[1;32m     55\u001b[0m     \u001b[0moptional_entity_value\u001b[0m \u001b[1;33m=\u001b[0m \u001b[0moptional_entity_value\u001b[0m\u001b[1;33m[\u001b[0m\u001b[1;36m0\u001b[0m\u001b[1;33m]\u001b[0m\u001b[1;33m\u001b[0m\u001b[0m\n\u001b[0;32m---> 56\u001b[0;31m     \u001b[0moptional_entity_rows\u001b[0m \u001b[1;33m=\u001b[0m \u001b[0mmost_similar_rows\u001b[0m\u001b[1;33m(\u001b[0m\u001b[0mreq_entity_rows\u001b[0m\u001b[1;33m,\u001b[0m \u001b[0moptional_entity\u001b[0m\u001b[1;33m,\u001b[0m \u001b[0moptional_entity_value\u001b[0m\u001b[1;33m)\u001b[0m\u001b[1;33m\u001b[0m\u001b[0m\n\u001b[0m\u001b[1;32m     57\u001b[0m     \u001b[1;32mfor\u001b[0m \u001b[0mitem\u001b[0m \u001b[1;32min\u001b[0m \u001b[0moptional_entity_rows\u001b[0m\u001b[1;33m[\u001b[0m\u001b[1;34m'response'\u001b[0m\u001b[1;33m]\u001b[0m\u001b[1;33m:\u001b[0m\u001b[1;33m\u001b[0m\u001b[0m\n\u001b[1;32m     58\u001b[0m         \u001b[0mresponse\u001b[0m \u001b[1;33m=\u001b[0m \u001b[0mitem\u001b[0m\u001b[1;33m\u001b[0m\u001b[0m\n",
      "\u001b[0;32m<ipython-input-38-8290f41d9dbc>\u001b[0m in \u001b[0;36mmost_similar_rows\u001b[0;34m(routings, req_entity, req_entity_value)\u001b[0m\n\u001b[1;32m      4\u001b[0m     \u001b[1;32mfor\u001b[0m \u001b[0mitem\u001b[0m \u001b[1;32min\u001b[0m \u001b[0mroutings\u001b[0m\u001b[1;33m[\u001b[0m\u001b[0mreq_entity\u001b[0m\u001b[1;33m]\u001b[0m\u001b[1;33m:\u001b[0m\u001b[1;33m\u001b[0m\u001b[0m\n\u001b[1;32m      5\u001b[0m         \u001b[0mw1\u001b[0m \u001b[1;33m=\u001b[0m \u001b[0mnlp\u001b[0m\u001b[1;33m(\u001b[0m\u001b[0mreq_entity_value\u001b[0m\u001b[1;33m)\u001b[0m\u001b[1;33m\u001b[0m\u001b[0m\n\u001b[0;32m----> 6\u001b[0;31m         \u001b[0mw2\u001b[0m \u001b[1;33m=\u001b[0m \u001b[0mnlp\u001b[0m\u001b[1;33m(\u001b[0m\u001b[0mitem\u001b[0m\u001b[1;33m)\u001b[0m\u001b[1;33m\u001b[0m\u001b[0m\n\u001b[0m\u001b[1;32m      7\u001b[0m         \u001b[0msimilarity\u001b[0m \u001b[1;33m=\u001b[0m \u001b[0mw1\u001b[0m\u001b[1;33m.\u001b[0m\u001b[0msimilarity\u001b[0m\u001b[1;33m(\u001b[0m\u001b[0mw2\u001b[0m\u001b[1;33m)\u001b[0m\u001b[1;33m\u001b[0m\u001b[0m\n\u001b[1;32m      8\u001b[0m         \u001b[0msimilarity_score\u001b[0m\u001b[1;33m.\u001b[0m\u001b[0mappend\u001b[0m\u001b[1;33m(\u001b[0m\u001b[0msimilarity\u001b[0m\u001b[1;33m)\u001b[0m\u001b[1;33m\u001b[0m\u001b[0m\n",
      "\u001b[0;32mC:\\Users\\Utkarsh Sah\\Anaconda3\\lib\\site-packages\\spacy\\language.py\u001b[0m in \u001b[0;36m__call__\u001b[0;34m(self, text, disable)\u001b[0m\n\u001b[1;32m    341\u001b[0m             \u001b[1;33m(\u001b[0m\u001b[1;34m'An'\u001b[0m\u001b[1;33m,\u001b[0m \u001b[1;34m'NN'\u001b[0m\u001b[1;33m)\u001b[0m\u001b[1;33m\u001b[0m\u001b[0m\n\u001b[1;32m    342\u001b[0m         \"\"\"\n\u001b[0;32m--> 343\u001b[0;31m         \u001b[1;32mif\u001b[0m \u001b[0mlen\u001b[0m\u001b[1;33m(\u001b[0m\u001b[0mtext\u001b[0m\u001b[1;33m)\u001b[0m \u001b[1;33m>=\u001b[0m \u001b[0mself\u001b[0m\u001b[1;33m.\u001b[0m\u001b[0mmax_length\u001b[0m\u001b[1;33m:\u001b[0m\u001b[1;33m\u001b[0m\u001b[0m\n\u001b[0m\u001b[1;32m    344\u001b[0m             raise ValueError(Errors.E088.format(length=len(text),\n\u001b[1;32m    345\u001b[0m                                                 max_length=self.max_length))\n",
      "\u001b[0;31mTypeError\u001b[0m: object of type 'float' has no len()"
     ]
    }
   ],
   "source": [
    "bot()"
   ]
  },
  {
   "cell_type": "code",
   "execution_count": null,
   "metadata": {
    "collapsed": true
   },
   "outputs": [],
   "source": []
  },
  {
   "cell_type": "code",
   "execution_count": null,
   "metadata": {
    "collapsed": true
   },
   "outputs": [],
   "source": []
  }
 ],
 "metadata": {
  "kernelspec": {
   "display_name": "Python 3",
   "language": "python",
   "name": "python3"
  },
  "language_info": {
   "codemirror_mode": {
    "name": "ipython",
    "version": 3
   },
   "file_extension": ".py",
   "mimetype": "text/x-python",
   "name": "python",
   "nbconvert_exporter": "python",
   "pygments_lexer": "ipython3",
   "version": "3.6.0"
  }
 },
 "nbformat": 4,
 "nbformat_minor": 2
}
